{
  "nbformat": 4,
  "nbformat_minor": 0,
  "metadata": {
    "colab": {
      "provenance": [],
      "include_colab_link": true
    },
    "kernelspec": {
      "name": "python3",
      "display_name": "Python 3"
    },
    "language_info": {
      "name": "python"
    }
  },
  "cells": [
    {
      "cell_type": "markdown",
      "metadata": {
        "id": "view-in-github",
        "colab_type": "text"
      },
      "source": [
        "<a href=\"https://colab.research.google.com/github/Pritush09/Pandas-and-its-functions-detailed/blob/master/Sesssion_22_date_and_time_in_pandas.ipynb\" target=\"_parent\"><img src=\"https://colab.research.google.com/assets/colab-badge.svg\" alt=\"Open In Colab\"/></a>"
      ]
    },
    {
      "cell_type": "code",
      "execution_count": 1,
      "metadata": {
        "id": "FuP2atHNtHbr"
      },
      "outputs": [],
      "source": [
        "import numpy as np\n",
        "import pandas as pd"
      ]
    },
    {
      "cell_type": "code",
      "source": [
        "from google.colab import drive\n",
        "drive.mount('/content/drive')"
      ],
      "metadata": {
        "colab": {
          "base_uri": "https://localhost:8080/"
        },
        "id": "uTzX-ZSSCWTU",
        "outputId": "28ebe0a2-05c2-419f-967c-f6d9d33a75a5"
      },
      "execution_count": 2,
      "outputs": [
        {
          "output_type": "stream",
          "name": "stdout",
          "text": [
            "Mounted at /content/drive\n"
          ]
        }
      ]
    },
    {
      "cell_type": "markdown",
      "source": [
        "### Timestamp Object\n",
        "\n",
        "Time stamps reference particular moments in time (e.g., Oct 24th, 2022 at 7:00pm)"
      ],
      "metadata": {
        "id": "GEXZCSwWthTK"
      }
    },
    {
      "cell_type": "markdown",
      "source": [
        "### Creating Timestamp objects"
      ],
      "metadata": {
        "id": "XH2gU7GZvKB6"
      }
    },
    {
      "cell_type": "code",
      "source": [
        "# the habit u should give the data is \n",
        "#       Year / month / day"
      ],
      "metadata": {
        "id": "kkta6q1XDC5q"
      },
      "execution_count": 11,
      "outputs": []
    },
    {
      "cell_type": "code",
      "source": [
        "# creating a timestamp\n",
        "type(pd.Timestamp('2023/1/5'))"
      ],
      "metadata": {
        "colab": {
          "base_uri": "https://localhost:8080/"
        },
        "id": "Y52x2MS-0ct7",
        "outputId": "7690f0cf-a077-4012-e871-4a5408a2cfa0"
      },
      "execution_count": 12,
      "outputs": [
        {
          "output_type": "execute_result",
          "data": {
            "text/plain": [
              "pandas._libs.tslibs.timestamps.Timestamp"
            ]
          },
          "metadata": {},
          "execution_count": 12
        }
      ]
    },
    {
      "cell_type": "code",
      "source": [
        "# variations\n",
        "pd.Timestamp('2023-1-5')\n",
        "pd.Timestamp('2023, 1, 5')"
      ],
      "metadata": {
        "colab": {
          "base_uri": "https://localhost:8080/"
        },
        "id": "bj-V1BMotPLC",
        "outputId": "146e66a3-8ed6-499b-cea1-5ae3b4802e08"
      },
      "execution_count": 4,
      "outputs": [
        {
          "output_type": "execute_result",
          "data": {
            "text/plain": [
              "Timestamp('2023-01-05 00:00:00')"
            ]
          },
          "metadata": {},
          "execution_count": 4
        }
      ]
    },
    {
      "cell_type": "code",
      "source": [
        "# only year\n",
        "pd.Timestamp('2023')"
      ],
      "metadata": {
        "colab": {
          "base_uri": "https://localhost:8080/"
        },
        "id": "mB-UXNVD0jyl",
        "outputId": "02a86c00-7bf1-42f2-d6a2-f45288a82ae4"
      },
      "execution_count": 5,
      "outputs": [
        {
          "output_type": "execute_result",
          "data": {
            "text/plain": [
              "Timestamp('2023-01-01 00:00:00')"
            ]
          },
          "metadata": {},
          "execution_count": 5
        }
      ]
    },
    {
      "cell_type": "code",
      "source": [
        "# using text\n",
        "pd.Timestamp('5th January 2023')"
      ],
      "metadata": {
        "colab": {
          "base_uri": "https://localhost:8080/"
        },
        "id": "iY1GA2Eb0osz",
        "outputId": "04e7f110-cc64-4ac1-c73e-962ff2e0d0ff"
      },
      "execution_count": 6,
      "outputs": [
        {
          "output_type": "execute_result",
          "data": {
            "text/plain": [
              "Timestamp('2023-01-05 00:00:00')"
            ]
          },
          "metadata": {},
          "execution_count": 6
        }
      ]
    },
    {
      "cell_type": "code",
      "source": [
        "# providing time also\n",
        "pd.Timestamp('5th January 2023 9:21AM')\n",
        "# pd.Timestamp('2023/1/5/9/21') "
      ],
      "metadata": {
        "colab": {
          "base_uri": "https://localhost:8080/"
        },
        "id": "X9kcHRAq0uGf",
        "outputId": "10507aa9-b2ab-4fac-c561-2cfe582c2878"
      },
      "execution_count": 7,
      "outputs": [
        {
          "output_type": "execute_result",
          "data": {
            "text/plain": [
              "Timestamp('2023-01-05 09:21:00')"
            ]
          },
          "metadata": {},
          "execution_count": 7
        }
      ]
    },
    {
      "cell_type": "code",
      "source": [
        "# AM and PM"
      ],
      "metadata": {
        "id": "AhlvkJz80w2v"
      },
      "execution_count": 8,
      "outputs": []
    },
    {
      "cell_type": "code",
      "source": [
        "# using datetime.datetime object\n",
        "import datetime as dt\n",
        "\n",
        "x = pd.Timestamp(dt.datetime(2023,1,5,9,21,56))\n",
        "x"
      ],
      "metadata": {
        "colab": {
          "base_uri": "https://localhost:8080/"
        },
        "id": "Y18HScxQ0yRT",
        "outputId": "4c19b3cf-0b84-45a6-a9af-d42d47e5407c"
      },
      "execution_count": 9,
      "outputs": [
        {
          "output_type": "execute_result",
          "data": {
            "text/plain": [
              "Timestamp('2023-01-05 09:21:56')"
            ]
          },
          "metadata": {},
          "execution_count": 9
        }
      ]
    },
    {
      "cell_type": "code",
      "source": [
        "dt.datetime(2023,1,5,9,21,56)"
      ],
      "metadata": {
        "colab": {
          "base_uri": "https://localhost:8080/"
        },
        "id": "TULUNGREEXqF",
        "outputId": "a2b66df6-48dd-4d62-eef3-c7da2deabc12"
      },
      "execution_count": 13,
      "outputs": [
        {
          "output_type": "execute_result",
          "data": {
            "text/plain": [
              "datetime.datetime(2023, 1, 5, 9, 21, 56)"
            ]
          },
          "metadata": {},
          "execution_count": 13
        }
      ]
    },
    {
      "cell_type": "code",
      "source": [
        "# fetching attributes"
      ],
      "metadata": {
        "id": "fWal-D76Fbez"
      },
      "execution_count": 20,
      "outputs": []
    },
    {
      "cell_type": "code",
      "source": [
        "x.year"
      ],
      "metadata": {
        "colab": {
          "base_uri": "https://localhost:8080/"
        },
        "id": "2ki4iNe9FGjo",
        "outputId": "8b8336c5-13d8-4ee2-c271-7130f5e927fd"
      },
      "execution_count": 15,
      "outputs": [
        {
          "output_type": "execute_result",
          "data": {
            "text/plain": [
              "2023"
            ]
          },
          "metadata": {},
          "execution_count": 15
        }
      ]
    },
    {
      "cell_type": "code",
      "source": [
        "x.month"
      ],
      "metadata": {
        "colab": {
          "base_uri": "https://localhost:8080/"
        },
        "id": "4IVSyoynFGma",
        "outputId": "8fb5b0bf-bfd3-4c8d-9380-d39d2ffa44c1"
      },
      "execution_count": 16,
      "outputs": [
        {
          "output_type": "execute_result",
          "data": {
            "text/plain": [
              "1"
            ]
          },
          "metadata": {},
          "execution_count": 16
        }
      ]
    },
    {
      "cell_type": "code",
      "source": [
        "x.day"
      ],
      "metadata": {
        "colab": {
          "base_uri": "https://localhost:8080/"
        },
        "id": "3dVnU014FGot",
        "outputId": "8f70a3ef-84e5-466f-8f25-ef27cfb471f3"
      },
      "execution_count": 17,
      "outputs": [
        {
          "output_type": "execute_result",
          "data": {
            "text/plain": [
              "5"
            ]
          },
          "metadata": {},
          "execution_count": 17
        }
      ]
    },
    {
      "cell_type": "code",
      "source": [
        "x.hour"
      ],
      "metadata": {
        "colab": {
          "base_uri": "https://localhost:8080/"
        },
        "id": "DCLzbye2FGrm",
        "outputId": "a6641036-0f7c-4d9d-e5d7-89084bc1841b"
      },
      "execution_count": 18,
      "outputs": [
        {
          "output_type": "execute_result",
          "data": {
            "text/plain": [
              "9"
            ]
          },
          "metadata": {},
          "execution_count": 18
        }
      ]
    },
    {
      "cell_type": "code",
      "source": [
        "x.minute"
      ],
      "metadata": {
        "colab": {
          "base_uri": "https://localhost:8080/"
        },
        "id": "WnWO7lo7FGuk",
        "outputId": "1e5e55d3-1b4f-4537-c405-93610486df09"
      },
      "execution_count": 21,
      "outputs": [
        {
          "output_type": "execute_result",
          "data": {
            "text/plain": [
              "21"
            ]
          },
          "metadata": {},
          "execution_count": 21
        }
      ]
    },
    {
      "cell_type": "code",
      "source": [
        "x.second"
      ],
      "metadata": {
        "colab": {
          "base_uri": "https://localhost:8080/"
        },
        "id": "oY00r9U71OK4",
        "outputId": "3707a3ba-e910-4fee-af72-b34bea9928de"
      },
      "execution_count": 19,
      "outputs": [
        {
          "output_type": "execute_result",
          "data": {
            "text/plain": [
              "56"
            ]
          },
          "metadata": {},
          "execution_count": 19
        }
      ]
    },
    {
      "cell_type": "code",
      "source": [
        "# why separate objects to handle data and time when python already has datetime functionality?"
      ],
      "metadata": {
        "id": "fVzCjSjJAZBE"
      },
      "execution_count": 22,
      "outputs": []
    },
    {
      "cell_type": "markdown",
      "source": [
        "- syntax wise datetime is very convenient\n",
        "- But the performance takes a hit while working with huge data. List vs Numpy Array\n",
        "- The weaknesses of Python's datetime format inspired the NumPy team to add a set of native time series data type to NumPy.\n",
        "- The datetime64 dtype encodes dates as 64-bit integers, and thus allows arrays of dates to be represented very compactly."
      ],
      "metadata": {
        "id": "97HDE2UJXyoT"
      }
    },
    {
      "cell_type": "code",
      "source": [
        "import numpy as np\n",
        "date = np.array('2015-07-04', dtype=np.datetime64)\n",
        "date"
      ],
      "metadata": {
        "colab": {
          "base_uri": "https://localhost:8080/"
        },
        "id": "MkuVP85DZyp0",
        "outputId": "b0962171-c55e-411b-8ec2-8f6e7cb0de9d"
      },
      "execution_count": 23,
      "outputs": [
        {
          "output_type": "execute_result",
          "data": {
            "text/plain": [
              "array('2015-07-04', dtype='datetime64[D]')"
            ]
          },
          "metadata": {},
          "execution_count": 23
        }
      ]
    },
    {
      "cell_type": "code",
      "source": [
        "date + np.arange(12)"
      ],
      "metadata": {
        "colab": {
          "base_uri": "https://localhost:8080/"
        },
        "id": "Ak5u64W6aBCS",
        "outputId": "af13270a-187d-41dc-e968-635520b68240"
      },
      "execution_count": 24,
      "outputs": [
        {
          "output_type": "execute_result",
          "data": {
            "text/plain": [
              "array(['2015-07-04', '2015-07-05', '2015-07-06', '2015-07-07',\n",
              "       '2015-07-08', '2015-07-09', '2015-07-10', '2015-07-11',\n",
              "       '2015-07-12', '2015-07-13', '2015-07-14', '2015-07-15'],\n",
              "      dtype='datetime64[D]')"
            ]
          },
          "metadata": {},
          "execution_count": 24
        }
      ]
    },
    {
      "cell_type": "markdown",
      "source": [
        "- Because of the uniform type in NumPy datetime64 arrays, this type of operation can be accomplished much more quickly than if we were working directly with Python's datetime objects, especially as arrays get large \n",
        "\n",
        "- Pandas Timestamp object combines the ease-of-use of python datetime with the efficient storage and vectorized interface of numpy.datetime64\n",
        "\n",
        "- From a group of these Timestamp objects, Pandas can construct a DatetimeIndex that can be used to index data in a Series or DataFrame"
      ],
      "metadata": {
        "id": "qyORT7KHZ29h"
      }
    },
    {
      "cell_type": "markdown",
      "source": [
        "### DatetimeIndex Object\n",
        "\n",
        "A collection of pandas timestamp"
      ],
      "metadata": {
        "id": "eQQXAaHDxP8n"
      }
    },
    {
      "cell_type": "code",
      "source": [
        "pd.DatetimeIndex(['2023/1/1','2022/1/1','2021/1/1'])"
      ],
      "metadata": {
        "colab": {
          "base_uri": "https://localhost:8080/"
        },
        "id": "XNqCFEAmHkYq",
        "outputId": "a2b5bff9-ea85-4b49-bbb1-812ff079e987"
      },
      "execution_count": 26,
      "outputs": [
        {
          "output_type": "execute_result",
          "data": {
            "text/plain": [
              "DatetimeIndex(['2023-01-01', '2022-01-01', '2021-01-01'], dtype='datetime64[ns]', freq=None)"
            ]
          },
          "metadata": {},
          "execution_count": 26
        }
      ]
    },
    {
      "cell_type": "code",
      "source": [
        "# from strings\n",
        "type(pd.DatetimeIndex(['2023/1/1','2022/1/1','2021/1/1']))"
      ],
      "metadata": {
        "colab": {
          "base_uri": "https://localhost:8080/"
        },
        "id": "3nI4CFQaxx84",
        "outputId": "d572ef8b-7140-4651-c2cf-43437953167f"
      },
      "execution_count": 27,
      "outputs": [
        {
          "output_type": "execute_result",
          "data": {
            "text/plain": [
              "pandas.core.indexes.datetimes.DatetimeIndex"
            ]
          },
          "metadata": {},
          "execution_count": 27
        }
      ]
    },
    {
      "cell_type": "code",
      "source": [
        "# using python datetime object\n",
        "pd.DatetimeIndex([dt.datetime(2023,1,1),dt.datetime(2022,1,1),dt.datetime(2021,1,1)])"
      ],
      "metadata": {
        "colab": {
          "base_uri": "https://localhost:8080/"
        },
        "id": "prE2fraR1l3F",
        "outputId": "cca6238a-6c5c-4c3a-de5d-ba8f0cd69ee5"
      },
      "execution_count": 28,
      "outputs": [
        {
          "output_type": "execute_result",
          "data": {
            "text/plain": [
              "DatetimeIndex(['2023-01-01', '2022-01-01', '2021-01-01'], dtype='datetime64[ns]', freq=None)"
            ]
          },
          "metadata": {},
          "execution_count": 28
        }
      ]
    },
    {
      "cell_type": "code",
      "source": [
        "# using pd.timestamps\n",
        "dt_index = pd.DatetimeIndex([pd.Timestamp(2023,1,1),pd.Timestamp(2022,1,1),pd.Timestamp(2021,1,1)])"
      ],
      "metadata": {
        "id": "KwFtOizE1qAT"
      },
      "execution_count": 30,
      "outputs": []
    },
    {
      "cell_type": "code",
      "source": [
        "# using datatimeindex as series\n",
        "pd.Series([1,2,3],index=dt_index)"
      ],
      "metadata": {
        "colab": {
          "base_uri": "https://localhost:8080/"
        },
        "id": "f8FOZZ1z1tCL",
        "outputId": "e9234b63-a3b2-460c-8ac1-1fae27dd7fe9"
      },
      "execution_count": 31,
      "outputs": [
        {
          "output_type": "execute_result",
          "data": {
            "text/plain": [
              "2023-01-01    1\n",
              "2022-01-01    2\n",
              "2021-01-01    3\n",
              "dtype: int64"
            ]
          },
          "metadata": {},
          "execution_count": 31
        }
      ]
    },
    {
      "cell_type": "code",
      "source": [
        "pd.Series([1,2,3],index=dt_index).index"
      ],
      "metadata": {
        "colab": {
          "base_uri": "https://localhost:8080/"
        },
        "id": "_6LEpMe7IrQj",
        "outputId": "55511af9-f07a-475b-f13e-7be1180d17a1"
      },
      "execution_count": 34,
      "outputs": [
        {
          "output_type": "execute_result",
          "data": {
            "text/plain": [
              "DatetimeIndex(['2023-01-01', '2022-01-01', '2021-01-01'], dtype='datetime64[ns]', freq=None)"
            ]
          },
          "metadata": {},
          "execution_count": 34
        }
      ]
    },
    {
      "cell_type": "markdown",
      "source": [
        "### date_range function\n",
        "\n"
      ],
      "metadata": {
        "id": "qxnmC74IxyjI"
      }
    },
    {
      "cell_type": "code",
      "source": [
        "# generate daily dates in a given range\n",
        "pd.date_range(start='2023/1/5',end='2023/2/28',freq='3D')\n",
        "# freq = after how many gap aega agla date"
      ],
      "metadata": {
        "colab": {
          "base_uri": "https://localhost:8080/"
        },
        "id": "tzDg9BOjx1is",
        "outputId": "b4add638-25c0-4c7c-d5af-343f7a47fc1b"
      },
      "execution_count": 35,
      "outputs": [
        {
          "output_type": "execute_result",
          "data": {
            "text/plain": [
              "DatetimeIndex(['2023-01-05', '2023-01-08', '2023-01-11', '2023-01-14',\n",
              "               '2023-01-17', '2023-01-20', '2023-01-23', '2023-01-26',\n",
              "               '2023-01-29', '2023-02-01', '2023-02-04', '2023-02-07',\n",
              "               '2023-02-10', '2023-02-13', '2023-02-16', '2023-02-19',\n",
              "               '2023-02-22', '2023-02-25', '2023-02-28'],\n",
              "              dtype='datetime64[ns]', freq='3D')"
            ]
          },
          "metadata": {},
          "execution_count": 35
        }
      ]
    },
    {
      "cell_type": "code",
      "source": [
        "pd.date_range(start='2004/1/5',end='2004/2/29',freq='3D')\n",
        "# this date_range function automatically detects wether the given year is a leap year or not id the last day is not present in that year \n",
        "# it simply throws an error\n",
        "# in this there will be an error as 2023 is not a leap year pd.date_range(start='2023/1/5',end='2023/2/29',freq='3D')\n"
      ],
      "metadata": {
        "colab": {
          "base_uri": "https://localhost:8080/"
        },
        "id": "hbBcLAh_Jd9K",
        "outputId": "309c4be4-ce4d-4caf-db78-49ce20a7a439"
      },
      "execution_count": 41,
      "outputs": [
        {
          "output_type": "execute_result",
          "data": {
            "text/plain": [
              "DatetimeIndex(['2004-01-05', '2004-01-08', '2004-01-11', '2004-01-14',\n",
              "               '2004-01-17', '2004-01-20', '2004-01-23', '2004-01-26',\n",
              "               '2004-01-29', '2004-02-01', '2004-02-04', '2004-02-07',\n",
              "               '2004-02-10', '2004-02-13', '2004-02-16', '2004-02-19',\n",
              "               '2004-02-22', '2004-02-25', '2004-02-28'],\n",
              "              dtype='datetime64[ns]', freq='3D')"
            ]
          },
          "metadata": {},
          "execution_count": 41
        }
      ]
    },
    {
      "cell_type": "code",
      "source": [
        "# alternate days in a given range\n",
        "pd.date_range(start='2023/1/5',end='2023/2/28',freq='3D')"
      ],
      "metadata": {
        "id": "-5VkFuUr36bU",
        "colab": {
          "base_uri": "https://localhost:8080/"
        },
        "outputId": "0344b88e-54b3-49d8-c1ae-5831c9689fef"
      },
      "execution_count": 42,
      "outputs": [
        {
          "output_type": "execute_result",
          "data": {
            "text/plain": [
              "DatetimeIndex(['2023-01-05', '2023-01-08', '2023-01-11', '2023-01-14',\n",
              "               '2023-01-17', '2023-01-20', '2023-01-23', '2023-01-26',\n",
              "               '2023-01-29', '2023-02-01', '2023-02-04', '2023-02-07',\n",
              "               '2023-02-10', '2023-02-13', '2023-02-16', '2023-02-19',\n",
              "               '2023-02-22', '2023-02-25', '2023-02-28'],\n",
              "              dtype='datetime64[ns]', freq='3D')"
            ]
          },
          "metadata": {},
          "execution_count": 42
        }
      ]
    },
    {
      "cell_type": "code",
      "source": [
        "# B -> business days\n",
        "pd.date_range(start='2023/1/5',end='2023/2/28',freq='B')"
      ],
      "metadata": {
        "colab": {
          "base_uri": "https://localhost:8080/"
        },
        "id": "4m_PcUOe39xy",
        "outputId": "ee5725b6-29b2-4f02-bff5-be0dc2dd03c7"
      },
      "execution_count": 43,
      "outputs": [
        {
          "output_type": "execute_result",
          "data": {
            "text/plain": [
              "DatetimeIndex(['2023-01-05', '2023-01-06', '2023-01-09', '2023-01-10',\n",
              "               '2023-01-11', '2023-01-12', '2023-01-13', '2023-01-16',\n",
              "               '2023-01-17', '2023-01-18', '2023-01-19', '2023-01-20',\n",
              "               '2023-01-23', '2023-01-24', '2023-01-25', '2023-01-26',\n",
              "               '2023-01-27', '2023-01-30', '2023-01-31', '2023-02-01',\n",
              "               '2023-02-02', '2023-02-03', '2023-02-06', '2023-02-07',\n",
              "               '2023-02-08', '2023-02-09', '2023-02-10', '2023-02-13',\n",
              "               '2023-02-14', '2023-02-15', '2023-02-16', '2023-02-17',\n",
              "               '2023-02-20', '2023-02-21', '2023-02-22', '2023-02-23',\n",
              "               '2023-02-24', '2023-02-27', '2023-02-28'],\n",
              "              dtype='datetime64[ns]', freq='B')"
            ]
          },
          "metadata": {},
          "execution_count": 43
        }
      ]
    },
    {
      "cell_type": "code",
      "source": [
        "# W -> one week per day\n",
        "pd.date_range(start='2023/1/5',end='2023/2/28',freq='W-THU') # this is for getting all the thrusdays of each week "
      ],
      "metadata": {
        "colab": {
          "base_uri": "https://localhost:8080/"
        },
        "id": "QqrrfRvC4QmV",
        "outputId": "41097f4b-d95e-4756-9584-b1dda61face3"
      },
      "execution_count": 48,
      "outputs": [
        {
          "output_type": "execute_result",
          "data": {
            "text/plain": [
              "DatetimeIndex(['2023-01-05', '2023-01-12', '2023-01-19', '2023-01-26',\n",
              "               '2023-02-02', '2023-02-09', '2023-02-16', '2023-02-23'],\n",
              "              dtype='datetime64[ns]', freq='W-THU')"
            ]
          },
          "metadata": {},
          "execution_count": 48
        }
      ]
    },
    {
      "cell_type": "code",
      "source": [
        "# agar koi bhi day chahiye uss week ak par ek hi tab \n",
        "# use sirf W in freq\n",
        "pd.date_range(start='2023/1/5',end='2023/2/28',freq='W')"
      ],
      "metadata": {
        "colab": {
          "base_uri": "https://localhost:8080/"
        },
        "id": "z_NABKtgKtai",
        "outputId": "ac74b63f-a396-4864-8446-ac73f01c189a"
      },
      "execution_count": 49,
      "outputs": [
        {
          "output_type": "execute_result",
          "data": {
            "text/plain": [
              "DatetimeIndex(['2023-01-08', '2023-01-15', '2023-01-22', '2023-01-29',\n",
              "               '2023-02-05', '2023-02-12', '2023-02-19', '2023-02-26'],\n",
              "              dtype='datetime64[ns]', freq='W-SUN')"
            ]
          },
          "metadata": {},
          "execution_count": 49
        }
      ]
    },
    {
      "cell_type": "code",
      "source": [
        "# H -> Hourly data(factor)\n",
        "pd.date_range(start='2023/1/5',end='2023/2/28',freq='6H') \n",
        "# again if we want after every hour then use H instead of 6H"
      ],
      "metadata": {
        "colab": {
          "base_uri": "https://localhost:8080/"
        },
        "id": "95b_S-rY4Zt-",
        "outputId": "5163c92a-2a93-4486-a373-bc7a8ba47cf6"
      },
      "execution_count": 51,
      "outputs": [
        {
          "output_type": "execute_result",
          "data": {
            "text/plain": [
              "DatetimeIndex(['2023-01-05 00:00:00', '2023-01-05 06:00:00',\n",
              "               '2023-01-05 12:00:00', '2023-01-05 18:00:00',\n",
              "               '2023-01-06 00:00:00', '2023-01-06 06:00:00',\n",
              "               '2023-01-06 12:00:00', '2023-01-06 18:00:00',\n",
              "               '2023-01-07 00:00:00', '2023-01-07 06:00:00',\n",
              "               ...\n",
              "               '2023-02-25 18:00:00', '2023-02-26 00:00:00',\n",
              "               '2023-02-26 06:00:00', '2023-02-26 12:00:00',\n",
              "               '2023-02-26 18:00:00', '2023-02-27 00:00:00',\n",
              "               '2023-02-27 06:00:00', '2023-02-27 12:00:00',\n",
              "               '2023-02-27 18:00:00', '2023-02-28 00:00:00'],\n",
              "              dtype='datetime64[ns]', length=217, freq='6H')"
            ]
          },
          "metadata": {},
          "execution_count": 51
        }
      ]
    },
    {
      "cell_type": "code",
      "source": [
        "# M -> Month end\n",
        "pd.date_range(start='2023/1/5',end='2023/2/28',freq='M')"
      ],
      "metadata": {
        "colab": {
          "base_uri": "https://localhost:8080/"
        },
        "id": "T4TgV2Mn4oNg",
        "outputId": "cf21915c-17df-41c7-f7e1-672c7215d758"
      },
      "execution_count": 52,
      "outputs": [
        {
          "output_type": "execute_result",
          "data": {
            "text/plain": [
              "DatetimeIndex(['2023-01-31', '2023-02-28'], dtype='datetime64[ns]', freq='M')"
            ]
          },
          "metadata": {},
          "execution_count": 52
        }
      ]
    },
    {
      "cell_type": "code",
      "source": [
        "# MS -> Month start\n",
        "pd.date_range(start='2023/1/5',end='2023/2/28',freq='MS')"
      ],
      "metadata": {
        "colab": {
          "base_uri": "https://localhost:8080/"
        },
        "id": "biLXdwmM4xFI",
        "outputId": "2e675bcc-7a79-461f-89ba-2a3b66f74c23"
      },
      "execution_count": 53,
      "outputs": [
        {
          "output_type": "execute_result",
          "data": {
            "text/plain": [
              "DatetimeIndex(['2023-02-01'], dtype='datetime64[ns]', freq='MS')"
            ]
          },
          "metadata": {},
          "execution_count": 53
        }
      ]
    },
    {
      "cell_type": "code",
      "source": [
        "# A -> Year end\n",
        "pd.date_range(start='2023/1/5',end='2030/2/28',freq='A')"
      ],
      "metadata": {
        "colab": {
          "base_uri": "https://localhost:8080/"
        },
        "id": "-OpW9ydF4-_f",
        "outputId": "65d57a21-65b3-46a9-e9ef-20960d47528d"
      },
      "execution_count": 54,
      "outputs": [
        {
          "output_type": "execute_result",
          "data": {
            "text/plain": [
              "DatetimeIndex(['2023-12-31', '2024-12-31', '2025-12-31', '2026-12-31',\n",
              "               '2027-12-31', '2028-12-31', '2029-12-31'],\n",
              "              dtype='datetime64[ns]', freq='A-DEC')"
            ]
          },
          "metadata": {},
          "execution_count": 54
        }
      ]
    },
    {
      "cell_type": "code",
      "source": [
        "# using periods(number of results)\n",
        "# it means give me the dates after the start to the the no. of periods meaning  no. of days after the start\n",
        "pd.date_range(start='2023/1/5',periods=25,freq='M')"
      ],
      "metadata": {
        "colab": {
          "base_uri": "https://localhost:8080/"
        },
        "id": "zUz1UWoQ5CQD",
        "outputId": "e36b38c4-f461-44b6-cac8-2e94b5029fa0"
      },
      "execution_count": 55,
      "outputs": [
        {
          "output_type": "execute_result",
          "data": {
            "text/plain": [
              "DatetimeIndex(['2023-01-31', '2023-02-28', '2023-03-31', '2023-04-30',\n",
              "               '2023-05-31', '2023-06-30', '2023-07-31', '2023-08-31',\n",
              "               '2023-09-30', '2023-10-31', '2023-11-30', '2023-12-31',\n",
              "               '2024-01-31', '2024-02-29', '2024-03-31', '2024-04-30',\n",
              "               '2024-05-31', '2024-06-30', '2024-07-31', '2024-08-31',\n",
              "               '2024-09-30', '2024-10-31', '2024-11-30', '2024-12-31',\n",
              "               '2025-01-31'],\n",
              "              dtype='datetime64[ns]', freq='M')"
            ]
          },
          "metadata": {},
          "execution_count": 55
        }
      ]
    },
    {
      "cell_type": "markdown",
      "source": [
        "### to_datetime function\n",
        "\n",
        "converts an existing objects to pandas timestamp/datetimeindex object"
      ],
      "metadata": {
        "id": "gzxkbZjUx3Hd"
      }
    },
    {
      "cell_type": "code",
      "source": [
        "# simple series example\n",
        "\n",
        "s = pd.Series(['2023/1/1','2022/1/1','2021/1/1'])\n",
        "pd.to_datetime(s).dt.day_name()"
      ],
      "metadata": {
        "colab": {
          "base_uri": "https://localhost:8080/"
        },
        "id": "d4smd0-fD1Hw",
        "outputId": "a3d0a5ca-9896-4279-af08-f87b9f68bb3d"
      },
      "execution_count": 56,
      "outputs": [
        {
          "output_type": "execute_result",
          "data": {
            "text/plain": [
              "0      Sunday\n",
              "1    Saturday\n",
              "2      Friday\n",
              "dtype: object"
            ]
          },
          "metadata": {},
          "execution_count": 56
        }
      ]
    },
    {
      "cell_type": "code",
      "source": [
        "# with errors\n",
        "s = pd.Series(['2023/1/1','2022/1/1','2021/130/1'])  \n",
        " # here we can see that the month 130 does not exist so inorder to avoid it skip it so to avoid any error while converting we use this\n",
        "pd.to_datetime(s,errors='coerce').dt.month_name()"
      ],
      "metadata": {
        "colab": {
          "base_uri": "https://localhost:8080/"
        },
        "id": "eMQPrIPHD3aO",
        "outputId": "636a4d2e-02d4-4a93-d34b-a762b09dc24a"
      },
      "execution_count": 57,
      "outputs": [
        {
          "output_type": "execute_result",
          "data": {
            "text/plain": [
              "0    January\n",
              "1    January\n",
              "2        NaN\n",
              "dtype: object"
            ]
          },
          "metadata": {},
          "execution_count": 57
        }
      ]
    },
    {
      "cell_type": "code",
      "source": [
        "df = pd.read_csv('/content/drive/MyDrive/Data/session-datasets/datasets-session-22/expense_data.csv')\n",
        "df.shape"
      ],
      "metadata": {
        "colab": {
          "base_uri": "https://localhost:8080/"
        },
        "id": "yCCP7dyEx2WO",
        "outputId": "01fca6e3-6c35-442e-de92-c41c0c91c00a"
      },
      "execution_count": 58,
      "outputs": [
        {
          "output_type": "execute_result",
          "data": {
            "text/plain": [
              "(277, 11)"
            ]
          },
          "metadata": {},
          "execution_count": 58
        }
      ]
    },
    {
      "cell_type": "code",
      "source": [
        "df.head()"
      ],
      "metadata": {
        "colab": {
          "base_uri": "https://localhost:8080/",
          "height": 206
        },
        "id": "4wkwLHyn-F5T",
        "outputId": "2fffe4e6-d30d-454b-ad17-15ada6e67210"
      },
      "execution_count": 59,
      "outputs": [
        {
          "output_type": "execute_result",
          "data": {
            "text/plain": [
              "             Date               Account        Category  Subcategory  \\\n",
              "0  3/2/2022 10:11  CUB - online payment            Food          NaN   \n",
              "1  3/2/2022 10:11  CUB - online payment           Other          NaN   \n",
              "2  3/1/2022 19:50  CUB - online payment            Food          NaN   \n",
              "3  3/1/2022 18:56  CUB - online payment  Transportation          NaN   \n",
              "4  3/1/2022 18:22  CUB - online payment            Food          NaN   \n",
              "\n",
              "               Note    INR Income/Expense  Note.1  Amount Currency  Account.1  \n",
              "0           Brownie   50.0        Expense     NaN    50.0      INR       50.0  \n",
              "1  To lended people  300.0        Expense     NaN   300.0      INR      300.0  \n",
              "2            Dinner   78.0        Expense     NaN    78.0      INR       78.0  \n",
              "3             Metro   30.0        Expense     NaN    30.0      INR       30.0  \n",
              "4            Snacks   67.0        Expense     NaN    67.0      INR       67.0  "
            ],
            "text/html": [
              "\n",
              "  <div id=\"df-bb006a96-54c1-4fb0-8c62-0d51bf88ac3a\">\n",
              "    <div class=\"colab-df-container\">\n",
              "      <div>\n",
              "<style scoped>\n",
              "    .dataframe tbody tr th:only-of-type {\n",
              "        vertical-align: middle;\n",
              "    }\n",
              "\n",
              "    .dataframe tbody tr th {\n",
              "        vertical-align: top;\n",
              "    }\n",
              "\n",
              "    .dataframe thead th {\n",
              "        text-align: right;\n",
              "    }\n",
              "</style>\n",
              "<table border=\"1\" class=\"dataframe\">\n",
              "  <thead>\n",
              "    <tr style=\"text-align: right;\">\n",
              "      <th></th>\n",
              "      <th>Date</th>\n",
              "      <th>Account</th>\n",
              "      <th>Category</th>\n",
              "      <th>Subcategory</th>\n",
              "      <th>Note</th>\n",
              "      <th>INR</th>\n",
              "      <th>Income/Expense</th>\n",
              "      <th>Note.1</th>\n",
              "      <th>Amount</th>\n",
              "      <th>Currency</th>\n",
              "      <th>Account.1</th>\n",
              "    </tr>\n",
              "  </thead>\n",
              "  <tbody>\n",
              "    <tr>\n",
              "      <th>0</th>\n",
              "      <td>3/2/2022 10:11</td>\n",
              "      <td>CUB - online payment</td>\n",
              "      <td>Food</td>\n",
              "      <td>NaN</td>\n",
              "      <td>Brownie</td>\n",
              "      <td>50.0</td>\n",
              "      <td>Expense</td>\n",
              "      <td>NaN</td>\n",
              "      <td>50.0</td>\n",
              "      <td>INR</td>\n",
              "      <td>50.0</td>\n",
              "    </tr>\n",
              "    <tr>\n",
              "      <th>1</th>\n",
              "      <td>3/2/2022 10:11</td>\n",
              "      <td>CUB - online payment</td>\n",
              "      <td>Other</td>\n",
              "      <td>NaN</td>\n",
              "      <td>To lended people</td>\n",
              "      <td>300.0</td>\n",
              "      <td>Expense</td>\n",
              "      <td>NaN</td>\n",
              "      <td>300.0</td>\n",
              "      <td>INR</td>\n",
              "      <td>300.0</td>\n",
              "    </tr>\n",
              "    <tr>\n",
              "      <th>2</th>\n",
              "      <td>3/1/2022 19:50</td>\n",
              "      <td>CUB - online payment</td>\n",
              "      <td>Food</td>\n",
              "      <td>NaN</td>\n",
              "      <td>Dinner</td>\n",
              "      <td>78.0</td>\n",
              "      <td>Expense</td>\n",
              "      <td>NaN</td>\n",
              "      <td>78.0</td>\n",
              "      <td>INR</td>\n",
              "      <td>78.0</td>\n",
              "    </tr>\n",
              "    <tr>\n",
              "      <th>3</th>\n",
              "      <td>3/1/2022 18:56</td>\n",
              "      <td>CUB - online payment</td>\n",
              "      <td>Transportation</td>\n",
              "      <td>NaN</td>\n",
              "      <td>Metro</td>\n",
              "      <td>30.0</td>\n",
              "      <td>Expense</td>\n",
              "      <td>NaN</td>\n",
              "      <td>30.0</td>\n",
              "      <td>INR</td>\n",
              "      <td>30.0</td>\n",
              "    </tr>\n",
              "    <tr>\n",
              "      <th>4</th>\n",
              "      <td>3/1/2022 18:22</td>\n",
              "      <td>CUB - online payment</td>\n",
              "      <td>Food</td>\n",
              "      <td>NaN</td>\n",
              "      <td>Snacks</td>\n",
              "      <td>67.0</td>\n",
              "      <td>Expense</td>\n",
              "      <td>NaN</td>\n",
              "      <td>67.0</td>\n",
              "      <td>INR</td>\n",
              "      <td>67.0</td>\n",
              "    </tr>\n",
              "  </tbody>\n",
              "</table>\n",
              "</div>\n",
              "      <button class=\"colab-df-convert\" onclick=\"convertToInteractive('df-bb006a96-54c1-4fb0-8c62-0d51bf88ac3a')\"\n",
              "              title=\"Convert this dataframe to an interactive table.\"\n",
              "              style=\"display:none;\">\n",
              "        \n",
              "  <svg xmlns=\"http://www.w3.org/2000/svg\" height=\"24px\"viewBox=\"0 0 24 24\"\n",
              "       width=\"24px\">\n",
              "    <path d=\"M0 0h24v24H0V0z\" fill=\"none\"/>\n",
              "    <path d=\"M18.56 5.44l.94 2.06.94-2.06 2.06-.94-2.06-.94-.94-2.06-.94 2.06-2.06.94zm-11 1L8.5 8.5l.94-2.06 2.06-.94-2.06-.94L8.5 2.5l-.94 2.06-2.06.94zm10 10l.94 2.06.94-2.06 2.06-.94-2.06-.94-.94-2.06-.94 2.06-2.06.94z\"/><path d=\"M17.41 7.96l-1.37-1.37c-.4-.4-.92-.59-1.43-.59-.52 0-1.04.2-1.43.59L10.3 9.45l-7.72 7.72c-.78.78-.78 2.05 0 2.83L4 21.41c.39.39.9.59 1.41.59.51 0 1.02-.2 1.41-.59l7.78-7.78 2.81-2.81c.8-.78.8-2.07 0-2.86zM5.41 20L4 18.59l7.72-7.72 1.47 1.35L5.41 20z\"/>\n",
              "  </svg>\n",
              "      </button>\n",
              "      \n",
              "  <style>\n",
              "    .colab-df-container {\n",
              "      display:flex;\n",
              "      flex-wrap:wrap;\n",
              "      gap: 12px;\n",
              "    }\n",
              "\n",
              "    .colab-df-convert {\n",
              "      background-color: #E8F0FE;\n",
              "      border: none;\n",
              "      border-radius: 50%;\n",
              "      cursor: pointer;\n",
              "      display: none;\n",
              "      fill: #1967D2;\n",
              "      height: 32px;\n",
              "      padding: 0 0 0 0;\n",
              "      width: 32px;\n",
              "    }\n",
              "\n",
              "    .colab-df-convert:hover {\n",
              "      background-color: #E2EBFA;\n",
              "      box-shadow: 0px 1px 2px rgba(60, 64, 67, 0.3), 0px 1px 3px 1px rgba(60, 64, 67, 0.15);\n",
              "      fill: #174EA6;\n",
              "    }\n",
              "\n",
              "    [theme=dark] .colab-df-convert {\n",
              "      background-color: #3B4455;\n",
              "      fill: #D2E3FC;\n",
              "    }\n",
              "\n",
              "    [theme=dark] .colab-df-convert:hover {\n",
              "      background-color: #434B5C;\n",
              "      box-shadow: 0px 1px 3px 1px rgba(0, 0, 0, 0.15);\n",
              "      filter: drop-shadow(0px 1px 2px rgba(0, 0, 0, 0.3));\n",
              "      fill: #FFFFFF;\n",
              "    }\n",
              "  </style>\n",
              "\n",
              "      <script>\n",
              "        const buttonEl =\n",
              "          document.querySelector('#df-bb006a96-54c1-4fb0-8c62-0d51bf88ac3a button.colab-df-convert');\n",
              "        buttonEl.style.display =\n",
              "          google.colab.kernel.accessAllowed ? 'block' : 'none';\n",
              "\n",
              "        async function convertToInteractive(key) {\n",
              "          const element = document.querySelector('#df-bb006a96-54c1-4fb0-8c62-0d51bf88ac3a');\n",
              "          const dataTable =\n",
              "            await google.colab.kernel.invokeFunction('convertToInteractive',\n",
              "                                                     [key], {});\n",
              "          if (!dataTable) return;\n",
              "\n",
              "          const docLinkHtml = 'Like what you see? Visit the ' +\n",
              "            '<a target=\"_blank\" href=https://colab.research.google.com/notebooks/data_table.ipynb>data table notebook</a>'\n",
              "            + ' to learn more about interactive tables.';\n",
              "          element.innerHTML = '';\n",
              "          dataTable['output_type'] = 'display_data';\n",
              "          await google.colab.output.renderOutput(dataTable, element);\n",
              "          const docLink = document.createElement('div');\n",
              "          docLink.innerHTML = docLinkHtml;\n",
              "          element.appendChild(docLink);\n",
              "        }\n",
              "      </script>\n",
              "    </div>\n",
              "  </div>\n",
              "  "
            ]
          },
          "metadata": {},
          "execution_count": 59
        }
      ]
    },
    {
      "cell_type": "code",
      "source": [
        "df['Date'] = pd.to_datetime(df['Date'])"
      ],
      "metadata": {
        "id": "-RyeFdJful1r"
      },
      "execution_count": 60,
      "outputs": []
    },
    {
      "cell_type": "code",
      "source": [
        "df.info()"
      ],
      "metadata": {
        "colab": {
          "base_uri": "https://localhost:8080/"
        },
        "id": "LUeZsnxmu2OL",
        "outputId": "d2536a40-168f-4f80-cdbf-9b2267992d93"
      },
      "execution_count": 61,
      "outputs": [
        {
          "output_type": "stream",
          "name": "stdout",
          "text": [
            "<class 'pandas.core.frame.DataFrame'>\n",
            "RangeIndex: 277 entries, 0 to 276\n",
            "Data columns (total 11 columns):\n",
            " #   Column          Non-Null Count  Dtype         \n",
            "---  ------          --------------  -----         \n",
            " 0   Date            277 non-null    datetime64[ns]\n",
            " 1   Account         277 non-null    object        \n",
            " 2   Category        277 non-null    object        \n",
            " 3   Subcategory     0 non-null      float64       \n",
            " 4   Note            273 non-null    object        \n",
            " 5   INR             277 non-null    float64       \n",
            " 6   Income/Expense  277 non-null    object        \n",
            " 7   Note.1          0 non-null      float64       \n",
            " 8   Amount          277 non-null    float64       \n",
            " 9   Currency        277 non-null    object        \n",
            " 10  Account.1       277 non-null    float64       \n",
            "dtypes: datetime64[ns](1), float64(5), object(5)\n",
            "memory usage: 23.9+ KB\n"
          ]
        }
      ]
    },
    {
      "cell_type": "markdown",
      "source": [
        "### dt accessor\n",
        "\n",
        "Accessor object for datetimelike properties of the Series values."
      ],
      "metadata": {
        "id": "Y3yo25n0x6dn"
      }
    },
    {
      "cell_type": "code",
      "source": [
        "df['Date'].dt.is_quarter_start"
      ],
      "metadata": {
        "colab": {
          "base_uri": "https://localhost:8080/"
        },
        "id": "rIJ6Yvmjx7xw",
        "outputId": "bbf4ce8d-eab3-4840-f098-9a37c83260c5"
      },
      "execution_count": 62,
      "outputs": [
        {
          "output_type": "execute_result",
          "data": {
            "text/plain": [
              "0      False\n",
              "1      False\n",
              "2      False\n",
              "3      False\n",
              "4      False\n",
              "       ...  \n",
              "272    False\n",
              "273    False\n",
              "274    False\n",
              "275    False\n",
              "276    False\n",
              "Name: Date, Length: 277, dtype: bool"
            ]
          },
          "metadata": {},
          "execution_count": 62
        }
      ]
    },
    {
      "cell_type": "code",
      "source": [
        "# plot graph\n",
        "import matplotlib.pyplot as plt\n",
        "plt.plot(df['Date'],df['INR'])\n",
        "plt.xticks(rotation=90)"
      ],
      "metadata": {
        "colab": {
          "base_uri": "https://localhost:8080/",
          "height": 348
        },
        "id": "b1X1vV3h-klR",
        "outputId": "2056c441-c4bb-4af2-8376-1e25dba2cd91"
      },
      "execution_count": 66,
      "outputs": [
        {
          "output_type": "execute_result",
          "data": {
            "text/plain": [
              "(array([738125., 738139., 738156., 738170., 738187., 738201., 738215.]),\n",
              " <a list of 7 Text major ticklabel objects>)"
            ]
          },
          "metadata": {},
          "execution_count": 66
        },
        {
          "output_type": "display_data",
          "data": {
            "text/plain": [
              "<Figure size 432x288 with 1 Axes>"
            ],
            "image/png": "[encoded data removed]"
          },
          "metadata": {
            "needs_background": "light"
          }
        }
      ]
    },
    {
      "cell_type": "code",
      "source": [
        "# day name wise bar chart/month wise bar chart\n",
        "\n",
        "df['day_name'] = df['Date'].dt.day_name()"
      ],
      "metadata": {
        "id": "F5aCfRqJEQHP"
      },
      "execution_count": 67,
      "outputs": []
    },
    {
      "cell_type": "code",
      "source": [
        "df.head()"
      ],
      "metadata": {
        "colab": {
          "base_uri": "https://localhost:8080/",
          "height": 337
        },
        "id": "7dhq_RFuvirp",
        "outputId": "3baee542-74a6-4c57-d276-724569d544d3"
      },
      "execution_count": 68,
      "outputs": [
        {
          "output_type": "execute_result",
          "data": {
            "text/plain": [
              "                 Date               Account        Category  Subcategory  \\\n",
              "0 2022-03-02 10:11:00  CUB - online payment            Food          NaN   \n",
              "1 2022-03-02 10:11:00  CUB - online payment           Other          NaN   \n",
              "2 2022-03-01 19:50:00  CUB - online payment            Food          NaN   \n",
              "3 2022-03-01 18:56:00  CUB - online payment  Transportation          NaN   \n",
              "4 2022-03-01 18:22:00  CUB - online payment            Food          NaN   \n",
              "\n",
              "               Note    INR Income/Expense  Note.1  Amount Currency  Account.1  \\\n",
              "0           Brownie   50.0        Expense     NaN    50.0      INR       50.0   \n",
              "1  To lended people  300.0        Expense     NaN   300.0      INR      300.0   \n",
              "2            Dinner   78.0        Expense     NaN    78.0      INR       78.0   \n",
              "3             Metro   30.0        Expense     NaN    30.0      INR       30.0   \n",
              "4            Snacks   67.0        Expense     NaN    67.0      INR       67.0   \n",
              "\n",
              "    day_name  \n",
              "0  Wednesday  \n",
              "1  Wednesday  \n",
              "2    Tuesday  \n",
              "3    Tuesday  \n",
              "4    Tuesday  "
            ],
            "text/html": [
              "\n",
              "  <div id=\"df-33a75969-b950-476b-83d7-3e995afbe388\">\n",
              "    <div class=\"colab-df-container\">\n",
              "      <div>\n",
              "<style scoped>\n",
              "    .dataframe tbody tr th:only-of-type {\n",
              "        vertical-align: middle;\n",
              "    }\n",
              "\n",
              "    .dataframe tbody tr th {\n",
              "        vertical-align: top;\n",
              "    }\n",
              "\n",
              "    .dataframe thead th {\n",
              "        text-align: right;\n",
              "    }\n",
              "</style>\n",
              "<table border=\"1\" class=\"dataframe\">\n",
              "  <thead>\n",
              "    <tr style=\"text-align: right;\">\n",
              "      <th></th>\n",
              "      <th>Date</th>\n",
              "      <th>Account</th>\n",
              "      <th>Category</th>\n",
              "      <th>Subcategory</th>\n",
              "      <th>Note</th>\n",
              "      <th>INR</th>\n",
              "      <th>Income/Expense</th>\n",
              "      <th>Note.1</th>\n",
              "      <th>Amount</th>\n",
              "      <th>Currency</th>\n",
              "      <th>Account.1</th>\n",
              "      <th>day_name</th>\n",
              "    </tr>\n",
              "  </thead>\n",
              "  <tbody>\n",
              "    <tr>\n",
              "      <th>0</th>\n",
              "      <td>2022-03-02 10:11:00</td>\n",
              "      <td>CUB - online payment</td>\n",
              "      <td>Food</td>\n",
              "      <td>NaN</td>\n",
              "      <td>Brownie</td>\n",
              "      <td>50.0</td>\n",
              "      <td>Expense</td>\n",
              "      <td>NaN</td>\n",
              "      <td>50.0</td>\n",
              "      <td>INR</td>\n",
              "      <td>50.0</td>\n",
              "      <td>Wednesday</td>\n",
              "    </tr>\n",
              "    <tr>\n",
              "      <th>1</th>\n",
              "      <td>2022-03-02 10:11:00</td>\n",
              "      <td>CUB - online payment</td>\n",
              "      <td>Other</td>\n",
              "      <td>NaN</td>\n",
              "      <td>To lended people</td>\n",
              "      <td>300.0</td>\n",
              "      <td>Expense</td>\n",
              "      <td>NaN</td>\n",
              "      <td>300.0</td>\n",
              "      <td>INR</td>\n",
              "      <td>300.0</td>\n",
              "      <td>Wednesday</td>\n",
              "    </tr>\n",
              "    <tr>\n",
              "      <th>2</th>\n",
              "      <td>2022-03-01 19:50:00</td>\n",
              "      <td>CUB - online payment</td>\n",
              "      <td>Food</td>\n",
              "      <td>NaN</td>\n",
              "      <td>Dinner</td>\n",
              "      <td>78.0</td>\n",
              "      <td>Expense</td>\n",
              "      <td>NaN</td>\n",
              "      <td>78.0</td>\n",
              "      <td>INR</td>\n",
              "      <td>78.0</td>\n",
              "      <td>Tuesday</td>\n",
              "    </tr>\n",
              "    <tr>\n",
              "      <th>3</th>\n",
              "      <td>2022-03-01 18:56:00</td>\n",
              "      <td>CUB - online payment</td>\n",
              "      <td>Transportation</td>\n",
              "      <td>NaN</td>\n",
              "      <td>Metro</td>\n",
              "      <td>30.0</td>\n",
              "      <td>Expense</td>\n",
              "      <td>NaN</td>\n",
              "      <td>30.0</td>\n",
              "      <td>INR</td>\n",
              "      <td>30.0</td>\n",
              "      <td>Tuesday</td>\n",
              "    </tr>\n",
              "    <tr>\n",
              "      <th>4</th>\n",
              "      <td>2022-03-01 18:22:00</td>\n",
              "      <td>CUB - online payment</td>\n",
              "      <td>Food</td>\n",
              "      <td>NaN</td>\n",
              "      <td>Snacks</td>\n",
              "      <td>67.0</td>\n",
              "      <td>Expense</td>\n",
              "      <td>NaN</td>\n",
              "      <td>67.0</td>\n",
              "      <td>INR</td>\n",
              "      <td>67.0</td>\n",
              "      <td>Tuesday</td>\n",
              "    </tr>\n",
              "  </tbody>\n",
              "</table>\n",
              "</div>\n",
              "      <button class=\"colab-df-convert\" onclick=\"convertToInteractive('df-33a75969-b950-476b-83d7-3e995afbe388')\"\n",
              "              title=\"Convert this dataframe to an interactive table.\"\n",
              "              style=\"display:none;\">\n",
              "        \n",
              "  <svg xmlns=\"http://www.w3.org/2000/svg\" height=\"24px\"viewBox=\"0 0 24 24\"\n",
              "       width=\"24px\">\n",
              "    <path d=\"M0 0h24v24H0V0z\" fill=\"none\"/>\n",
              "    <path d=\"M18.56 5.44l.94 2.06.94-2.06 2.06-.94-2.06-.94-.94-2.06-.94 2.06-2.06.94zm-11 1L8.5 8.5l.94-2.06 2.06-.94-2.06-.94L8.5 2.5l-.94 2.06-2.06.94zm10 10l.94 2.06.94-2.06 2.06-.94-2.06-.94-.94-2.06-.94 2.06-2.06.94z\"/><path d=\"M17.41 7.96l-1.37-1.37c-.4-.4-.92-.59-1.43-.59-.52 0-1.04.2-1.43.59L10.3 9.45l-7.72 7.72c-.78.78-.78 2.05 0 2.83L4 21.41c.39.39.9.59 1.41.59.51 0 1.02-.2 1.41-.59l7.78-7.78 2.81-2.81c.8-.78.8-2.07 0-2.86zM5.41 20L4 18.59l7.72-7.72 1.47 1.35L5.41 20z\"/>\n",
              "  </svg>\n",
              "      </button>\n",
              "      \n",
              "  <style>\n",
              "    .colab-df-container {\n",
              "      display:flex;\n",
              "      flex-wrap:wrap;\n",
              "      gap: 12px;\n",
              "    }\n",
              "\n",
              "    .colab-df-convert {\n",
              "      background-color: #E8F0FE;\n",
              "      border: none;\n",
              "      border-radius: 50%;\n",
              "      cursor: pointer;\n",
              "      display: none;\n",
              "      fill: #1967D2;\n",
              "      height: 32px;\n",
              "      padding: 0 0 0 0;\n",
              "      width: 32px;\n",
              "    }\n",
              "\n",
              "    .colab-df-convert:hover {\n",
              "      background-color: #E2EBFA;\n",
              "      box-shadow: 0px 1px 2px rgba(60, 64, 67, 0.3), 0px 1px 3px 1px rgba(60, 64, 67, 0.15);\n",
              "      fill: #174EA6;\n",
              "    }\n",
              "\n",
              "    [theme=dark] .colab-df-convert {\n",
              "      background-color: #3B4455;\n",
              "      fill: #D2E3FC;\n",
              "    }\n",
              "\n",
              "    [theme=dark] .colab-df-convert:hover {\n",
              "      background-color: #434B5C;\n",
              "      box-shadow: 0px 1px 3px 1px rgba(0, 0, 0, 0.15);\n",
              "      filter: drop-shadow(0px 1px 2px rgba(0, 0, 0, 0.3));\n",
              "      fill: #FFFFFF;\n",
              "    }\n",
              "  </style>\n",
              "\n",
              "      <script>\n",
              "        const buttonEl =\n",
              "          document.querySelector('#df-33a75969-b950-476b-83d7-3e995afbe388 button.colab-df-convert');\n",
              "        buttonEl.style.display =\n",
              "          google.colab.kernel.accessAllowed ? 'block' : 'none';\n",
              "\n",
              "        async function convertToInteractive(key) {\n",
              "          const element = document.querySelector('#df-33a75969-b950-476b-83d7-3e995afbe388');\n",
              "          const dataTable =\n",
              "            await google.colab.kernel.invokeFunction('convertToInteractive',\n",
              "                                                     [key], {});\n",
              "          if (!dataTable) return;\n",
              "\n",
              "          const docLinkHtml = 'Like what you see? Visit the ' +\n",
              "            '<a target=\"_blank\" href=https://colab.research.google.com/notebooks/data_table.ipynb>data table notebook</a>'\n",
              "            + ' to learn more about interactive tables.';\n",
              "          element.innerHTML = '';\n",
              "          dataTable['output_type'] = 'display_data';\n",
              "          await google.colab.output.renderOutput(dataTable, element);\n",
              "          const docLink = document.createElement('div');\n",
              "          docLink.innerHTML = docLinkHtml;\n",
              "          element.appendChild(docLink);\n",
              "        }\n",
              "      </script>\n",
              "    </div>\n",
              "  </div>\n",
              "  "
            ]
          },
          "metadata": {},
          "execution_count": 68
        }
      ]
    },
    {
      "cell_type": "code",
      "source": [
        "df.groupby('day_name')['INR'].mean().plot(kind='bar')"
      ],
      "metadata": {
        "colab": {
          "base_uri": "https://localhost:8080/",
          "height": 348
        },
        "id": "z2PcN0iovnDb",
        "outputId": "07c53c25-008b-41ed-d1cb-5495460416db"
      },
      "execution_count": 69,
      "outputs": [
        {
          "output_type": "execute_result",
          "data": {
            "text/plain": [
              "<matplotlib.axes._subplots.AxesSubplot at 0x7f39fe21b520>"
            ]
          },
          "metadata": {},
          "execution_count": 69
        },
        {
          "output_type": "display_data",
          "data": {
            "text/plain": [
              "<Figure size 432x288 with 1 Axes>"
            ],
            "image/png": "[encoded data removed]"
          },
          "metadata": {
            "needs_background": "light"
          }
        }
      ]
    },
    {
      "cell_type": "code",
      "source": [
        "df['month_name'] = df['Date'].dt.month_name()"
      ],
      "metadata": {
        "id": "ArhXjWUlvtdi"
      },
      "execution_count": 70,
      "outputs": []
    },
    {
      "cell_type": "code",
      "source": [
        "df.head()"
      ],
      "metadata": {
        "colab": {
          "base_uri": "https://localhost:8080/",
          "height": 423
        },
        "id": "SPesh2cHv8p3",
        "outputId": "5ece70bf-42dd-4709-9ccd-7077bae07da9"
      },
      "execution_count": 71,
      "outputs": [
        {
          "output_type": "execute_result",
          "data": {
            "text/plain": [
              "                 Date               Account        Category  Subcategory  \\\n",
              "0 2022-03-02 10:11:00  CUB - online payment            Food          NaN   \n",
              "1 2022-03-02 10:11:00  CUB - online payment           Other          NaN   \n",
              "2 2022-03-01 19:50:00  CUB - online payment            Food          NaN   \n",
              "3 2022-03-01 18:56:00  CUB - online payment  Transportation          NaN   \n",
              "4 2022-03-01 18:22:00  CUB - online payment            Food          NaN   \n",
              "\n",
              "               Note    INR Income/Expense  Note.1  Amount Currency  Account.1  \\\n",
              "0           Brownie   50.0        Expense     NaN    50.0      INR       50.0   \n",
              "1  To lended people  300.0        Expense     NaN   300.0      INR      300.0   \n",
              "2            Dinner   78.0        Expense     NaN    78.0      INR       78.0   \n",
              "3             Metro   30.0        Expense     NaN    30.0      INR       30.0   \n",
              "4            Snacks   67.0        Expense     NaN    67.0      INR       67.0   \n",
              "\n",
              "    day_name month_name  \n",
              "0  Wednesday      March  \n",
              "1  Wednesday      March  \n",
              "2    Tuesday      March  \n",
              "3    Tuesday      March  \n",
              "4    Tuesday      March  "
            ],
            "text/html": [
              "\n",
              "  <div id=\"df-0bdc8df9-8ddd-4f52-80c8-a2fa6d878fdb\">\n",
              "    <div class=\"colab-df-container\">\n",
              "      <div>\n",
              "<style scoped>\n",
              "    .dataframe tbody tr th:only-of-type {\n",
              "        vertical-align: middle;\n",
              "    }\n",
              "\n",
              "    .dataframe tbody tr th {\n",
              "        vertical-align: top;\n",
              "    }\n",
              "\n",
              "    .dataframe thead th {\n",
              "        text-align: right;\n",
              "    }\n",
              "</style>\n",
              "<table border=\"1\" class=\"dataframe\">\n",
              "  <thead>\n",
              "    <tr style=\"text-align: right;\">\n",
              "      <th></th>\n",
              "      <th>Date</th>\n",
              "      <th>Account</th>\n",
              "      <th>Category</th>\n",
              "      <th>Subcategory</th>\n",
              "      <th>Note</th>\n",
              "      <th>INR</th>\n",
              "      <th>Income/Expense</th>\n",
              "      <th>Note.1</th>\n",
              "      <th>Amount</th>\n",
              "      <th>Currency</th>\n",
              "      <th>Account.1</th>\n",
              "      <th>day_name</th>\n",
              "      <th>month_name</th>\n",
              "    </tr>\n",
              "  </thead>\n",
              "  <tbody>\n",
              "    <tr>\n",
              "      <th>0</th>\n",
              "      <td>2022-03-02 10:11:00</td>\n",
              "      <td>CUB - online payment</td>\n",
              "      <td>Food</td>\n",
              "      <td>NaN</td>\n",
              "      <td>Brownie</td>\n",
              "      <td>50.0</td>\n",
              "      <td>Expense</td>\n",
              "      <td>NaN</td>\n",
              "      <td>50.0</td>\n",
              "      <td>INR</td>\n",
              "      <td>50.0</td>\n",
              "      <td>Wednesday</td>\n",
              "      <td>March</td>\n",
              "    </tr>\n",
              "    <tr>\n",
              "      <th>1</th>\n",
              "      <td>2022-03-02 10:11:00</td>\n",
              "      <td>CUB - online payment</td>\n",
              "      <td>Other</td>\n",
              "      <td>NaN</td>\n",
              "      <td>To lended people</td>\n",
              "      <td>300.0</td>\n",
              "      <td>Expense</td>\n",
              "      <td>NaN</td>\n",
              "      <td>300.0</td>\n",
              "      <td>INR</td>\n",
              "      <td>300.0</td>\n",
              "      <td>Wednesday</td>\n",
              "      <td>March</td>\n",
              "    </tr>\n",
              "    <tr>\n",
              "      <th>2</th>\n",
              "      <td>2022-03-01 19:50:00</td>\n",
              "      <td>CUB - online payment</td>\n",
              "      <td>Food</td>\n",
              "      <td>NaN</td>\n",
              "      <td>Dinner</td>\n",
              "      <td>78.0</td>\n",
              "      <td>Expense</td>\n",
              "      <td>NaN</td>\n",
              "      <td>78.0</td>\n",
              "      <td>INR</td>\n",
              "      <td>78.0</td>\n",
              "      <td>Tuesday</td>\n",
              "      <td>March</td>\n",
              "    </tr>\n",
              "    <tr>\n",
              "      <th>3</th>\n",
              "      <td>2022-03-01 18:56:00</td>\n",
              "      <td>CUB - online payment</td>\n",
              "      <td>Transportation</td>\n",
              "      <td>NaN</td>\n",
              "      <td>Metro</td>\n",
              "      <td>30.0</td>\n",
              "      <td>Expense</td>\n",
              "      <td>NaN</td>\n",
              "      <td>30.0</td>\n",
              "      <td>INR</td>\n",
              "      <td>30.0</td>\n",
              "      <td>Tuesday</td>\n",
              "      <td>March</td>\n",
              "    </tr>\n",
              "    <tr>\n",
              "      <th>4</th>\n",
              "      <td>2022-03-01 18:22:00</td>\n",
              "      <td>CUB - online payment</td>\n",
              "      <td>Food</td>\n",
              "      <td>NaN</td>\n",
              "      <td>Snacks</td>\n",
              "      <td>67.0</td>\n",
              "      <td>Expense</td>\n",
              "      <td>NaN</td>\n",
              "      <td>67.0</td>\n",
              "      <td>INR</td>\n",
              "      <td>67.0</td>\n",
              "      <td>Tuesday</td>\n",
              "      <td>March</td>\n",
              "    </tr>\n",
              "  </tbody>\n",
              "</table>\n",
              "</div>\n",
              "      <button class=\"colab-df-convert\" onclick=\"convertToInteractive('df-0bdc8df9-8ddd-4f52-80c8-a2fa6d878fdb')\"\n",
              "              title=\"Convert this dataframe to an interactive table.\"\n",
              "              style=\"display:none;\">\n",
              "        \n",
              "  <svg xmlns=\"http://www.w3.org/2000/svg\" height=\"24px\"viewBox=\"0 0 24 24\"\n",
              "       width=\"24px\">\n",
              "    <path d=\"M0 0h24v24H0V0z\" fill=\"none\"/>\n",
              "    <path d=\"M18.56 5.44l.94 2.06.94-2.06 2.06-.94-2.06-.94-.94-2.06-.94 2.06-2.06.94zm-11 1L8.5 8.5l.94-2.06 2.06-.94-2.06-.94L8.5 2.5l-.94 2.06-2.06.94zm10 10l.94 2.06.94-2.06 2.06-.94-2.06-.94-.94-2.06-.94 2.06-2.06.94z\"/><path d=\"M17.41 7.96l-1.37-1.37c-.4-.4-.92-.59-1.43-.59-.52 0-1.04.2-1.43.59L10.3 9.45l-7.72 7.72c-.78.78-.78 2.05 0 2.83L4 21.41c.39.39.9.59 1.41.59.51 0 1.02-.2 1.41-.59l7.78-7.78 2.81-2.81c.8-.78.8-2.07 0-2.86zM5.41 20L4 18.59l7.72-7.72 1.47 1.35L5.41 20z\"/>\n",
              "  </svg>\n",
              "      </button>\n",
              "      \n",
              "  <style>\n",
              "    .colab-df-container {\n",
              "      display:flex;\n",
              "      flex-wrap:wrap;\n",
              "      gap: 12px;\n",
              "    }\n",
              "\n",
              "    .colab-df-convert {\n",
              "      background-color: #E8F0FE;\n",
              "      border: none;\n",
              "      border-radius: 50%;\n",
              "      cursor: pointer;\n",
              "      display: none;\n",
              "      fill: #1967D2;\n",
              "      height: 32px;\n",
              "      padding: 0 0 0 0;\n",
              "      width: 32px;\n",
              "    }\n",
              "\n",
              "    .colab-df-convert:hover {\n",
              "      background-color: #E2EBFA;\n",
              "      box-shadow: 0px 1px 2px rgba(60, 64, 67, 0.3), 0px 1px 3px 1px rgba(60, 64, 67, 0.15);\n",
              "      fill: #174EA6;\n",
              "    }\n",
              "\n",
              "    [theme=dark] .colab-df-convert {\n",
              "      background-color: #3B4455;\n",
              "      fill: #D2E3FC;\n",
              "    }\n",
              "\n",
              "    [theme=dark] .colab-df-convert:hover {\n",
              "      background-color: #434B5C;\n",
              "      box-shadow: 0px 1px 3px 1px rgba(0, 0, 0, 0.15);\n",
              "      filter: drop-shadow(0px 1px 2px rgba(0, 0, 0, 0.3));\n",
              "      fill: #FFFFFF;\n",
              "    }\n",
              "  </style>\n",
              "\n",
              "      <script>\n",
              "        const buttonEl =\n",
              "          document.querySelector('#df-0bdc8df9-8ddd-4f52-80c8-a2fa6d878fdb button.colab-df-convert');\n",
              "        buttonEl.style.display =\n",
              "          google.colab.kernel.accessAllowed ? 'block' : 'none';\n",
              "\n",
              "        async function convertToInteractive(key) {\n",
              "          const element = document.querySelector('#df-0bdc8df9-8ddd-4f52-80c8-a2fa6d878fdb');\n",
              "          const dataTable =\n",
              "            await google.colab.kernel.invokeFunction('convertToInteractive',\n",
              "                                                     [key], {});\n",
              "          if (!dataTable) return;\n",
              "\n",
              "          const docLinkHtml = 'Like what you see? Visit the ' +\n",
              "            '<a target=\"_blank\" href=https://colab.research.google.com/notebooks/data_table.ipynb>data table notebook</a>'\n",
              "            + ' to learn more about interactive tables.';\n",
              "          element.innerHTML = '';\n",
              "          dataTable['output_type'] = 'display_data';\n",
              "          await google.colab.output.renderOutput(dataTable, element);\n",
              "          const docLink = document.createElement('div');\n",
              "          docLink.innerHTML = docLinkHtml;\n",
              "          element.appendChild(docLink);\n",
              "        }\n",
              "      </script>\n",
              "    </div>\n",
              "  </div>\n",
              "  "
            ]
          },
          "metadata": {},
          "execution_count": 71
        }
      ]
    },
    {
      "cell_type": "code",
      "source": [
        "df.groupby('month_name')['INR'].sum().plot(kind='bar')"
      ],
      "metadata": {
        "colab": {
          "base_uri": "https://localhost:8080/",
          "height": 339
        },
        "id": "sJWkzRWfv9nW",
        "outputId": "25f3238e-5735-4409-a846-6c23c378e90f"
      },
      "execution_count": 72,
      "outputs": [
        {
          "output_type": "execute_result",
          "data": {
            "text/plain": [
              "<matplotlib.axes._subplots.AxesSubplot at 0x7f39fe1951f0>"
            ]
          },
          "metadata": {},
          "execution_count": 72
        },
        {
          "output_type": "display_data",
          "data": {
            "text/plain": [
              "<Figure size 432x288 with 1 Axes>"
            ],
            "image/png": "[encoded data removed]"
          },
          "metadata": {
            "needs_background": "light"
          }
        }
      ]
    },
    {
      "cell_type": "code",
      "source": [
        "df[df['Date'].dt.is_month_end]"
      ],
      "metadata": {
        "colab": {
          "base_uri": "https://localhost:8080/",
          "height": 622
        },
        "id": "pnlcKZAWwBWv",
        "outputId": "974472a0-9312-4ece-9f72-8d7396f05234"
      },
      "execution_count": 73,
      "outputs": [
        {
          "output_type": "execute_result",
          "data": {
            "text/plain": [
              "                   Date               Account        Category  Subcategory  \\\n",
              "7   2022-02-28 11:56:00  CUB - online payment            Food          NaN   \n",
              "8   2022-02-28 11:45:00  CUB - online payment           Other          NaN   \n",
              "61  2022-01-31 08:44:00  CUB - online payment  Transportation          NaN   \n",
              "62  2022-01-31 08:27:00  CUB - online payment           Other          NaN   \n",
              "63  2022-01-31 08:26:00  CUB - online payment  Transportation          NaN   \n",
              "242 2021-11-30 14:24:00  CUB - online payment            Gift          NaN   \n",
              "243 2021-11-30 14:17:00  CUB - online payment            Food          NaN   \n",
              "244 2021-11-30 10:11:00  CUB - online payment            Food          NaN   \n",
              "\n",
              "                   Note     INR Income/Expense  Note.1  Amount Currency  \\\n",
              "7                 Pizza  339.15        Expense     NaN  339.15      INR   \n",
              "8           From kumara  200.00         Income     NaN  200.00      INR   \n",
              "61           Vnr to apk   50.00        Expense     NaN   50.00      INR   \n",
              "62             To vicky  200.00        Expense     NaN  200.00      INR   \n",
              "63       To ksr station  153.00        Expense     NaN  153.00      INR   \n",
              "242    Bharath birthday  115.00        Expense     NaN  115.00      INR   \n",
              "243  Lunch with company  128.00        Expense     NaN  128.00      INR   \n",
              "244           Breakfast   70.00        Expense     NaN   70.00      INR   \n",
              "\n",
              "     Account.1 day_name month_name  \n",
              "7       339.15   Monday   February  \n",
              "8       200.00   Monday   February  \n",
              "61       50.00   Monday    January  \n",
              "62      200.00   Monday    January  \n",
              "63      153.00   Monday    January  \n",
              "242     115.00  Tuesday   November  \n",
              "243     128.00  Tuesday   November  \n",
              "244      70.00  Tuesday   November  "
            ],
            "text/html": [
              "\n",
              "  <div id=\"df-65d2f461-3b72-4f6e-99f2-42bade0187dd\">\n",
              "    <div class=\"colab-df-container\">\n",
              "      <div>\n",
              "<style scoped>\n",
              "    .dataframe tbody tr th:only-of-type {\n",
              "        vertical-align: middle;\n",
              "    }\n",
              "\n",
              "    .dataframe tbody tr th {\n",
              "        vertical-align: top;\n",
              "    }\n",
              "\n",
              "    .dataframe thead th {\n",
              "        text-align: right;\n",
              "    }\n",
              "</style>\n",
              "<table border=\"1\" class=\"dataframe\">\n",
              "  <thead>\n",
              "    <tr style=\"text-align: right;\">\n",
              "      <th></th>\n",
              "      <th>Date</th>\n",
              "      <th>Account</th>\n",
              "      <th>Category</th>\n",
              "      <th>Subcategory</th>\n",
              "      <th>Note</th>\n",
              "      <th>INR</th>\n",
              "      <th>Income/Expense</th>\n",
              "      <th>Note.1</th>\n",
              "      <th>Amount</th>\n",
              "      <th>Currency</th>\n",
              "      <th>Account.1</th>\n",
              "      <th>day_name</th>\n",
              "      <th>month_name</th>\n",
              "    </tr>\n",
              "  </thead>\n",
              "  <tbody>\n",
              "    <tr>\n",
              "      <th>7</th>\n",
              "      <td>2022-02-28 11:56:00</td>\n",
              "      <td>CUB - online payment</td>\n",
              "      <td>Food</td>\n",
              "      <td>NaN</td>\n",
              "      <td>Pizza</td>\n",
              "      <td>339.15</td>\n",
              "      <td>Expense</td>\n",
              "      <td>NaN</td>\n",
              "      <td>339.15</td>\n",
              "      <td>INR</td>\n",
              "      <td>339.15</td>\n",
              "      <td>Monday</td>\n",
              "      <td>February</td>\n",
              "    </tr>\n",
              "    <tr>\n",
              "      <th>8</th>\n",
              "      <td>2022-02-28 11:45:00</td>\n",
              "      <td>CUB - online payment</td>\n",
              "      <td>Other</td>\n",
              "      <td>NaN</td>\n",
              "      <td>From kumara</td>\n",
              "      <td>200.00</td>\n",
              "      <td>Income</td>\n",
              "      <td>NaN</td>\n",
              "      <td>200.00</td>\n",
              "      <td>INR</td>\n",
              "      <td>200.00</td>\n",
              "      <td>Monday</td>\n",
              "      <td>February</td>\n",
              "    </tr>\n",
              "    <tr>\n",
              "      <th>61</th>\n",
              "      <td>2022-01-31 08:44:00</td>\n",
              "      <td>CUB - online payment</td>\n",
              "      <td>Transportation</td>\n",
              "      <td>NaN</td>\n",
              "      <td>Vnr to apk</td>\n",
              "      <td>50.00</td>\n",
              "      <td>Expense</td>\n",
              "      <td>NaN</td>\n",
              "      <td>50.00</td>\n",
              "      <td>INR</td>\n",
              "      <td>50.00</td>\n",
              "      <td>Monday</td>\n",
              "      <td>January</td>\n",
              "    </tr>\n",
              "    <tr>\n",
              "      <th>62</th>\n",
              "      <td>2022-01-31 08:27:00</td>\n",
              "      <td>CUB - online payment</td>\n",
              "      <td>Other</td>\n",
              "      <td>NaN</td>\n",
              "      <td>To vicky</td>\n",
              "      <td>200.00</td>\n",
              "      <td>Expense</td>\n",
              "      <td>NaN</td>\n",
              "      <td>200.00</td>\n",
              "      <td>INR</td>\n",
              "      <td>200.00</td>\n",
              "      <td>Monday</td>\n",
              "      <td>January</td>\n",
              "    </tr>\n",
              "    <tr>\n",
              "      <th>63</th>\n",
              "      <td>2022-01-31 08:26:00</td>\n",
              "      <td>CUB - online payment</td>\n",
              "      <td>Transportation</td>\n",
              "      <td>NaN</td>\n",
              "      <td>To ksr station</td>\n",
              "      <td>153.00</td>\n",
              "      <td>Expense</td>\n",
              "      <td>NaN</td>\n",
              "      <td>153.00</td>\n",
              "      <td>INR</td>\n",
              "      <td>153.00</td>\n",
              "      <td>Monday</td>\n",
              "      <td>January</td>\n",
              "    </tr>\n",
              "    <tr>\n",
              "      <th>242</th>\n",
              "      <td>2021-11-30 14:24:00</td>\n",
              "      <td>CUB - online payment</td>\n",
              "      <td>Gift</td>\n",
              "      <td>NaN</td>\n",
              "      <td>Bharath birthday</td>\n",
              "      <td>115.00</td>\n",
              "      <td>Expense</td>\n",
              "      <td>NaN</td>\n",
              "      <td>115.00</td>\n",
              "      <td>INR</td>\n",
              "      <td>115.00</td>\n",
              "      <td>Tuesday</td>\n",
              "      <td>November</td>\n",
              "    </tr>\n",
              "    <tr>\n",
              "      <th>243</th>\n",
              "      <td>2021-11-30 14:17:00</td>\n",
              "      <td>CUB - online payment</td>\n",
              "      <td>Food</td>\n",
              "      <td>NaN</td>\n",
              "      <td>Lunch with company</td>\n",
              "      <td>128.00</td>\n",
              "      <td>Expense</td>\n",
              "      <td>NaN</td>\n",
              "      <td>128.00</td>\n",
              "      <td>INR</td>\n",
              "      <td>128.00</td>\n",
              "      <td>Tuesday</td>\n",
              "      <td>November</td>\n",
              "    </tr>\n",
              "    <tr>\n",
              "      <th>244</th>\n",
              "      <td>2021-11-30 10:11:00</td>\n",
              "      <td>CUB - online payment</td>\n",
              "      <td>Food</td>\n",
              "      <td>NaN</td>\n",
              "      <td>Breakfast</td>\n",
              "      <td>70.00</td>\n",
              "      <td>Expense</td>\n",
              "      <td>NaN</td>\n",
              "      <td>70.00</td>\n",
              "      <td>INR</td>\n",
              "      <td>70.00</td>\n",
              "      <td>Tuesday</td>\n",
              "      <td>November</td>\n",
              "    </tr>\n",
              "  </tbody>\n",
              "</table>\n",
              "</div>\n",
              "      <button class=\"colab-df-convert\" onclick=\"convertToInteractive('df-65d2f461-3b72-4f6e-99f2-42bade0187dd')\"\n",
              "              title=\"Convert this dataframe to an interactive table.\"\n",
              "              style=\"display:none;\">\n",
              "        \n",
              "  <svg xmlns=\"http://www.w3.org/2000/svg\" height=\"24px\"viewBox=\"0 0 24 24\"\n",
              "       width=\"24px\">\n",
              "    <path d=\"M0 0h24v24H0V0z\" fill=\"none\"/>\n",
              "    <path d=\"M18.56 5.44l.94 2.06.94-2.06 2.06-.94-2.06-.94-.94-2.06-.94 2.06-2.06.94zm-11 1L8.5 8.5l.94-2.06 2.06-.94-2.06-.94L8.5 2.5l-.94 2.06-2.06.94zm10 10l.94 2.06.94-2.06 2.06-.94-2.06-.94-.94-2.06-.94 2.06-2.06.94z\"/><path d=\"M17.41 7.96l-1.37-1.37c-.4-.4-.92-.59-1.43-.59-.52 0-1.04.2-1.43.59L10.3 9.45l-7.72 7.72c-.78.78-.78 2.05 0 2.83L4 21.41c.39.39.9.59 1.41.59.51 0 1.02-.2 1.41-.59l7.78-7.78 2.81-2.81c.8-.78.8-2.07 0-2.86zM5.41 20L4 18.59l7.72-7.72 1.47 1.35L5.41 20z\"/>\n",
              "  </svg>\n",
              "      </button>\n",
              "      \n",
              "  <style>\n",
              "    .colab-df-container {\n",
              "      display:flex;\n",
              "      flex-wrap:wrap;\n",
              "      gap: 12px;\n",
              "    }\n",
              "\n",
              "    .colab-df-convert {\n",
              "      background-color: #E8F0FE;\n",
              "      border: none;\n",
              "      border-radius: 50%;\n",
              "      cursor: pointer;\n",
              "      display: none;\n",
              "      fill: #1967D2;\n",
              "      height: 32px;\n",
              "      padding: 0 0 0 0;\n",
              "      width: 32px;\n",
              "    }\n",
              "\n",
              "    .colab-df-convert:hover {\n",
              "      background-color: #E2EBFA;\n",
              "      box-shadow: 0px 1px 2px rgba(60, 64, 67, 0.3), 0px 1px 3px 1px rgba(60, 64, 67, 0.15);\n",
              "      fill: #174EA6;\n",
              "    }\n",
              "\n",
              "    [theme=dark] .colab-df-convert {\n",
              "      background-color: #3B4455;\n",
              "      fill: #D2E3FC;\n",
              "    }\n",
              "\n",
              "    [theme=dark] .colab-df-convert:hover {\n",
              "      background-color: #434B5C;\n",
              "      box-shadow: 0px 1px 3px 1px rgba(0, 0, 0, 0.15);\n",
              "      filter: drop-shadow(0px 1px 2px rgba(0, 0, 0, 0.3));\n",
              "      fill: #FFFFFF;\n",
              "    }\n",
              "  </style>\n",
              "\n",
              "      <script>\n",
              "        const buttonEl =\n",
              "          document.querySelector('#df-65d2f461-3b72-4f6e-99f2-42bade0187dd button.colab-df-convert');\n",
              "        buttonEl.style.display =\n",
              "          google.colab.kernel.accessAllowed ? 'block' : 'none';\n",
              "\n",
              "        async function convertToInteractive(key) {\n",
              "          const element = document.querySelector('#df-65d2f461-3b72-4f6e-99f2-42bade0187dd');\n",
              "          const dataTable =\n",
              "            await google.colab.kernel.invokeFunction('convertToInteractive',\n",
              "                                                     [key], {});\n",
              "          if (!dataTable) return;\n",
              "\n",
              "          const docLinkHtml = 'Like what you see? Visit the ' +\n",
              "            '<a target=\"_blank\" href=https://colab.research.google.com/notebooks/data_table.ipynb>data table notebook</a>'\n",
              "            + ' to learn more about interactive tables.';\n",
              "          element.innerHTML = '';\n",
              "          dataTable['output_type'] = 'display_data';\n",
              "          await google.colab.output.renderOutput(dataTable, element);\n",
              "          const docLink = document.createElement('div');\n",
              "          docLink.innerHTML = docLinkHtml;\n",
              "          element.appendChild(docLink);\n",
              "        }\n",
              "      </script>\n",
              "    </div>\n",
              "  </div>\n",
              "  "
            ]
          },
          "metadata": {},
          "execution_count": 73
        }
      ]
    },
    {
      "cell_type": "code",
      "source": [],
      "metadata": {
        "id": "QJfMv1ipwT05"
      },
      "execution_count": null,
      "outputs": []
    }
  ]
}